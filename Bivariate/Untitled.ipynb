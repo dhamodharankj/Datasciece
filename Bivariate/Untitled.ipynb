{
 "cells": [
  {
   "cell_type": "code",
   "execution_count": 1,
   "id": "472aa986",
   "metadata": {},
   "outputs": [],
   "source": [
    "class Fruit:\n",
    "    def __init__(self,name:str,color:str):\n",
    "        self.color=color\n",
    "    def color(self):\n",
    "        return self._color\n",
    "    def color(self,value):\n",
    "        if isinstance(value,str):\n",
    "            self._color=value\n",
    "        else:\n",
    "            raise AttributeError('color must be a string')"
   ]
  },
  {
   "cell_type": "code",
   "execution_count": 2,
   "id": "82f11568",
   "metadata": {},
   "outputs": [
    {
     "data": {
      "text/plain": [
       "'red'"
      ]
     },
     "execution_count": 2,
     "metadata": {},
     "output_type": "execute_result"
    }
   ],
   "source": [
    "fruit=Fruit('apple','red')\n",
    "fruit.color"
   ]
  },
  {
   "cell_type": "code",
   "execution_count": 4,
   "id": "c4bb6257",
   "metadata": {},
   "outputs": [
    {
     "data": {
      "text/plain": [
       "'green'"
      ]
     },
     "execution_count": 4,
     "metadata": {},
     "output_type": "execute_result"
    }
   ],
   "source": [
    "fruit.color='green'\n",
    "fruit.color"
   ]
  },
  {
   "cell_type": "code",
   "execution_count": 6,
   "id": "b3a6e86a",
   "metadata": {},
   "outputs": [
    {
     "data": {
      "text/plain": [
       "1"
      ]
     },
     "execution_count": 6,
     "metadata": {},
     "output_type": "execute_result"
    }
   ],
   "source": [
    "fruit.color=1\n",
    "fruit.color"
   ]
  },
  {
   "cell_type": "code",
   "execution_count": 16,
   "id": "eeea36e3",
   "metadata": {},
   "outputs": [
    {
     "name": "stdout",
     "output_type": "stream",
     "text": [
      "Out of the Function\n",
      "Hello Learners\n"
     ]
    }
   ],
   "source": [
    "def my_function():\n",
    "    print('Hello Learners')\n",
    "print('Out of the Function')\n",
    "my_function()"
   ]
  },
  {
   "cell_type": "code",
   "execution_count": 15,
   "id": "03d3bf09",
   "metadata": {},
   "outputs": [
    {
     "name": "stdout",
     "output_type": "stream",
     "text": [
      "Hello Learners\n"
     ]
    }
   ],
   "source": [
    "my_function()"
   ]
  },
  {
   "cell_type": "code",
   "execution_count": null,
   "id": "f14f8c99",
   "metadata": {},
   "outputs": [],
   "source": []
  }
 ],
 "metadata": {
  "kernelspec": {
   "display_name": "Python 3 (ipykernel)",
   "language": "python",
   "name": "python3"
  },
  "language_info": {
   "codemirror_mode": {
    "name": "ipython",
    "version": 3
   },
   "file_extension": ".py",
   "mimetype": "text/x-python",
   "name": "python",
   "nbconvert_exporter": "python",
   "pygments_lexer": "ipython3",
   "version": "3.9.12"
  }
 },
 "nbformat": 4,
 "nbformat_minor": 5
}
